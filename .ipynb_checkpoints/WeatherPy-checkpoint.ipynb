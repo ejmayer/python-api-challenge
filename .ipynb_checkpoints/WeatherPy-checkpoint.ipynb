{
 "cells": [
  {
   "cell_type": "code",
   "execution_count": 1,
   "metadata": {},
   "outputs": [],
   "source": [
    "# Dependencies and Setup\n",
    "import matplotlib.pyplot as plt\n",
    "import pandas as pd\n",
    "import numpy as np\n",
    "import requests\n",
    "import time\n",
    "from pprint import pprint\n",
    "import json\n",
    "import time\n",
    "\n",
    "# Import API key\n",
    "from api_keys import api_key\n",
    "\n",
    "# Incorporated citipy to determine city based on latitude and longitude\n",
    "from citipy import citipy\n",
    "\n",
    "# Output File (CSV)\n",
    "output_data_file = \"output_data/cities.csv\"\n",
    "\n",
    "# Range of latitudes and longitudes\n",
    "lat_range = (-90, 90)\n",
    "lng_range = (-180, 180)"
   ]
  },
  {
   "cell_type": "code",
   "execution_count": 2,
   "metadata": {},
   "outputs": [
    {
     "data": {
      "text/plain": [
       "635"
      ]
     },
     "execution_count": 2,
     "metadata": {},
     "output_type": "execute_result"
    }
   ],
   "source": [
    "# List for holding lat_lngs and cities\n",
    "lat_lngs = []\n",
    "cities = []\n",
    "\n",
    "# Create a set of random lat and lng combinations\n",
    "lats = np.random.uniform(low=-90.000, high=90.000, size=1500)\n",
    "lngs = np.random.uniform(low=-180.000, high=180.000, size=1500)\n",
    "lat_lngs = zip(lats, lngs)\n",
    "\n",
    "# Identify nearest city for each lat, lng combination\n",
    "for lat_lng in lat_lngs:\n",
    "    city = citipy.nearest_city(lat_lng[0], lat_lng[1]).city_name\n",
    "    \n",
    "    # If the city is unique, then add it to a our cities list\n",
    "    if city not in cities:\n",
    "        cities.append(city)\n",
    "\n",
    "# Print the city count to confirm sufficient count\n",
    "len(cities)"
   ]
  },
  {
   "cell_type": "code",
   "execution_count": 3,
   "metadata": {},
   "outputs": [
    {
     "data": {
      "text/html": [
       "<div>\n",
       "<style scoped>\n",
       "    .dataframe tbody tr th:only-of-type {\n",
       "        vertical-align: middle;\n",
       "    }\n",
       "\n",
       "    .dataframe tbody tr th {\n",
       "        vertical-align: top;\n",
       "    }\n",
       "\n",
       "    .dataframe thead th {\n",
       "        text-align: right;\n",
       "    }\n",
       "</style>\n",
       "<table border=\"1\" class=\"dataframe\">\n",
       "  <thead>\n",
       "    <tr style=\"text-align: right;\">\n",
       "      <th></th>\n",
       "      <th>0</th>\n",
       "    </tr>\n",
       "  </thead>\n",
       "  <tbody>\n",
       "    <tr>\n",
       "      <td>0</td>\n",
       "      <td>albany</td>\n",
       "    </tr>\n",
       "    <tr>\n",
       "      <td>1</td>\n",
       "      <td>touros</td>\n",
       "    </tr>\n",
       "    <tr>\n",
       "      <td>2</td>\n",
       "      <td>bismarck</td>\n",
       "    </tr>\n",
       "    <tr>\n",
       "      <td>3</td>\n",
       "      <td>busselton</td>\n",
       "    </tr>\n",
       "    <tr>\n",
       "      <td>4</td>\n",
       "      <td>ushuaia</td>\n",
       "    </tr>\n",
       "  </tbody>\n",
       "</table>\n",
       "</div>"
      ],
      "text/plain": [
       "           0\n",
       "0     albany\n",
       "1     touros\n",
       "2   bismarck\n",
       "3  busselton\n",
       "4    ushuaia"
      ]
     },
     "execution_count": 3,
     "metadata": {},
     "output_type": "execute_result"
    }
   ],
   "source": [
    "cities = pd.DataFrame(cities)\n",
    "cities.head()"
   ]
  },
  {
   "cell_type": "code",
   "execution_count": 4,
   "metadata": {},
   "outputs": [],
   "source": [
    "#cities_mod = cities.drop([1])\n",
    "cities_mod2 = cities.drop(cities.index[11:])"
   ]
  },
  {
   "cell_type": "code",
   "execution_count": 5,
   "metadata": {},
   "outputs": [
    {
     "data": {
      "text/html": [
       "<div>\n",
       "<style scoped>\n",
       "    .dataframe tbody tr th:only-of-type {\n",
       "        vertical-align: middle;\n",
       "    }\n",
       "\n",
       "    .dataframe tbody tr th {\n",
       "        vertical-align: top;\n",
       "    }\n",
       "\n",
       "    .dataframe thead th {\n",
       "        text-align: right;\n",
       "    }\n",
       "</style>\n",
       "<table border=\"1\" class=\"dataframe\">\n",
       "  <thead>\n",
       "    <tr style=\"text-align: right;\">\n",
       "      <th></th>\n",
       "      <th>0</th>\n",
       "    </tr>\n",
       "  </thead>\n",
       "  <tbody>\n",
       "    <tr>\n",
       "      <td>0</td>\n",
       "      <td>albany</td>\n",
       "    </tr>\n",
       "    <tr>\n",
       "      <td>1</td>\n",
       "      <td>touros</td>\n",
       "    </tr>\n",
       "    <tr>\n",
       "      <td>2</td>\n",
       "      <td>bismarck</td>\n",
       "    </tr>\n",
       "    <tr>\n",
       "      <td>3</td>\n",
       "      <td>busselton</td>\n",
       "    </tr>\n",
       "    <tr>\n",
       "      <td>4</td>\n",
       "      <td>ushuaia</td>\n",
       "    </tr>\n",
       "  </tbody>\n",
       "</table>\n",
       "</div>"
      ],
      "text/plain": [
       "           0\n",
       "0     albany\n",
       "1     touros\n",
       "2   bismarck\n",
       "3  busselton\n",
       "4    ushuaia"
      ]
     },
     "execution_count": 5,
     "metadata": {},
     "output_type": "execute_result"
    }
   ],
   "source": [
    "#cities_mod.head()\n",
    "cities_mod2.head()"
   ]
  },
  {
   "cell_type": "code",
   "execution_count": 6,
   "metadata": {},
   "outputs": [
    {
     "data": {
      "text/html": [
       "<div>\n",
       "<style scoped>\n",
       "    .dataframe tbody tr th:only-of-type {\n",
       "        vertical-align: middle;\n",
       "    }\n",
       "\n",
       "    .dataframe tbody tr th {\n",
       "        vertical-align: top;\n",
       "    }\n",
       "\n",
       "    .dataframe thead th {\n",
       "        text-align: right;\n",
       "    }\n",
       "</style>\n",
       "<table border=\"1\" class=\"dataframe\">\n",
       "  <thead>\n",
       "    <tr style=\"text-align: right;\">\n",
       "      <th></th>\n",
       "      <th>0</th>\n",
       "    </tr>\n",
       "  </thead>\n",
       "  <tbody>\n",
       "    <tr>\n",
       "      <td>6</td>\n",
       "      <td>flinders</td>\n",
       "    </tr>\n",
       "    <tr>\n",
       "      <td>7</td>\n",
       "      <td>georgetown</td>\n",
       "    </tr>\n",
       "    <tr>\n",
       "      <td>8</td>\n",
       "      <td>mirnyy</td>\n",
       "    </tr>\n",
       "    <tr>\n",
       "      <td>9</td>\n",
       "      <td>cidreira</td>\n",
       "    </tr>\n",
       "    <tr>\n",
       "      <td>10</td>\n",
       "      <td>upernavik</td>\n",
       "    </tr>\n",
       "  </tbody>\n",
       "</table>\n",
       "</div>"
      ],
      "text/plain": [
       "             0\n",
       "6     flinders\n",
       "7   georgetown\n",
       "8       mirnyy\n",
       "9     cidreira\n",
       "10   upernavik"
      ]
     },
     "execution_count": 6,
     "metadata": {},
     "output_type": "execute_result"
    }
   ],
   "source": [
    "#cities.tail()\n",
    "cities_mod2.tail()"
   ]
  },
  {
   "cell_type": "code",
   "execution_count": 7,
   "metadata": {},
   "outputs": [
    {
     "data": {
      "text/html": [
       "<div>\n",
       "<style scoped>\n",
       "    .dataframe tbody tr th:only-of-type {\n",
       "        vertical-align: middle;\n",
       "    }\n",
       "\n",
       "    .dataframe tbody tr th {\n",
       "        vertical-align: top;\n",
       "    }\n",
       "\n",
       "    .dataframe thead th {\n",
       "        text-align: right;\n",
       "    }\n",
       "</style>\n",
       "<table border=\"1\" class=\"dataframe\">\n",
       "  <thead>\n",
       "    <tr style=\"text-align: right;\">\n",
       "      <th></th>\n",
       "      <th>0</th>\n",
       "      <th>Country</th>\n",
       "      <th>Lat</th>\n",
       "      <th>Long</th>\n",
       "      <th>Temp</th>\n",
       "      <th>Max Temp</th>\n",
       "      <th>Humidity</th>\n",
       "      <th>Cloudiness</th>\n",
       "      <th>Wind Speed</th>\n",
       "    </tr>\n",
       "  </thead>\n",
       "  <tbody>\n",
       "    <tr>\n",
       "      <td>0</td>\n",
       "      <td>albany</td>\n",
       "      <td></td>\n",
       "      <td></td>\n",
       "      <td></td>\n",
       "      <td></td>\n",
       "      <td></td>\n",
       "      <td></td>\n",
       "      <td></td>\n",
       "      <td></td>\n",
       "    </tr>\n",
       "    <tr>\n",
       "      <td>1</td>\n",
       "      <td>touros</td>\n",
       "      <td></td>\n",
       "      <td></td>\n",
       "      <td></td>\n",
       "      <td></td>\n",
       "      <td></td>\n",
       "      <td></td>\n",
       "      <td></td>\n",
       "      <td></td>\n",
       "    </tr>\n",
       "    <tr>\n",
       "      <td>2</td>\n",
       "      <td>bismarck</td>\n",
       "      <td></td>\n",
       "      <td></td>\n",
       "      <td></td>\n",
       "      <td></td>\n",
       "      <td></td>\n",
       "      <td></td>\n",
       "      <td></td>\n",
       "      <td></td>\n",
       "    </tr>\n",
       "    <tr>\n",
       "      <td>3</td>\n",
       "      <td>busselton</td>\n",
       "      <td></td>\n",
       "      <td></td>\n",
       "      <td></td>\n",
       "      <td></td>\n",
       "      <td></td>\n",
       "      <td></td>\n",
       "      <td></td>\n",
       "      <td></td>\n",
       "    </tr>\n",
       "    <tr>\n",
       "      <td>4</td>\n",
       "      <td>ushuaia</td>\n",
       "      <td></td>\n",
       "      <td></td>\n",
       "      <td></td>\n",
       "      <td></td>\n",
       "      <td></td>\n",
       "      <td></td>\n",
       "      <td></td>\n",
       "      <td></td>\n",
       "    </tr>\n",
       "  </tbody>\n",
       "</table>\n",
       "</div>"
      ],
      "text/plain": [
       "           0 Country Lat Long Temp Max Temp Humidity Cloudiness Wind Speed\n",
       "0     albany                                                              \n",
       "1     touros                                                              \n",
       "2   bismarck                                                              \n",
       "3  busselton                                                              \n",
       "4    ushuaia                                                              "
      ]
     },
     "execution_count": 7,
     "metadata": {},
     "output_type": "execute_result"
    }
   ],
   "source": [
    "#cities.rename(columns={\"0\" : \"Cities\"})\n",
    "#cities[\"Temp\"] = \"\"\n",
    "#cities[\"Humidity\"] = \"\"\n",
    "#cities[\"Cloudiness\"] = \"\"\n",
    "#cities[\"Wind Speed\"] =  \"\"\n",
    "#cities.head()\n",
    "\n",
    "cities_mod2.rename(columns={\"0\" : \"City\"})\n",
    "cities_mod2[\"Country\"] =  \"\"\n",
    "cities_mod2[\"Lat\"] = \"\"\n",
    "cities_mod2[\"Long\"] = \"\"\n",
    "cities_mod2[\"Temp\"] = \"\"\n",
    "cities_mod2[\"Max Temp\"] = \"\"\n",
    "cities_mod2[\"Humidity\"] = \"\"\n",
    "cities_mod2[\"Cloudiness\"] = \"\"\n",
    "cities_mod2[\"Wind Speed\"] =  \"\"\n",
    "\n",
    "\n",
    "\n",
    "cities_mod2.head()"
   ]
  },
  {
   "cell_type": "code",
   "execution_count": 8,
   "metadata": {},
   "outputs": [
    {
     "data": {
      "text/plain": [
       "(0         albany\n",
       " 1         touros\n",
       " 2       bismarck\n",
       " 3      busselton\n",
       " 4        ushuaia\n",
       " 5     tselinnoye\n",
       " 6       flinders\n",
       " 7     georgetown\n",
       " 8         mirnyy\n",
       " 9       cidreira\n",
       " 10     upernavik\n",
       " Name: 0, dtype: object, 'albany')"
      ]
     },
     "execution_count": 8,
     "metadata": {},
     "output_type": "execute_result"
    }
   ],
   "source": [
    "cities_trial = (cities_mod2.loc[0:10, 0])\n",
    "city = (cities_mod2.loc[0,0])\n",
    "cities_trial, city"
   ]
  },
  {
   "cell_type": "code",
   "execution_count": 9,
   "metadata": {},
   "outputs": [
    {
     "name": "stdout",
     "output_type": "stream",
     "text": [
      "Data Retrieval Process\n",
      "--------------------------------------\n",
      "Processing Record:  1  albany\n",
      "Processing Record:  2  touros\n",
      "Processing Record:  3  bismarck\n",
      "Processing Record:  4  busselton\n",
      "Processing Record:  5  ushuaia\n",
      "Processing Record:  6  tselinnoye\n",
      "Processing Record:  7  flinders\n",
      "Processing Record:  8  georgetown\n",
      "Processing Record:  9  mirnyy\n",
      "Processing Record:  10  cidreira\n",
      "Processing Record:  11  upernavik\n"
     ]
    }
   ],
   "source": [
    "# set up lists to hold reponse info\n",
    "temp = []\n",
    "cloud = []\n",
    "humidity = []\n",
    "wind_speed = []\n",
    "country = []\n",
    "max_temp = []\n",
    "city_lat = []\n",
    "city_long = []\n",
    "number = 1\n",
    "city_dropped= []\n",
    "\n",
    "print(\"Data Retrieval Process\")\n",
    "print(\"--------------------------------------\")\n",
    "\n",
    "\n",
    "# Loop through the list of cities and perform a request for data on each\n",
    "for city in cities_trial:\n",
    "\n",
    "    try:\n",
    "        \n",
    "        # Save config information.\n",
    "        url = \"http://api.openweathermap.org/data/2.5/weather?\"\n",
    "        query_url = url + \"appid=\" + api_key + \"&q=\" + city + \"&mode=json&units=imperial\"\n",
    "        query_url\n",
    "    \n",
    "        weather_response = requests.get(query_url)\n",
    "        weather_data_json = weather_response.json()\n",
    "    \n",
    "        # Add a one second interval between queries to stay within API query limits\n",
    "        time.sleep(1)\n",
    "    \n",
    "        temp.append(weather_data_json['main']['temp'])\n",
    "        cloud.append(weather_data_json['clouds']['all'])\n",
    "        humidity.append(weather_data_json['main']['humidity'])\n",
    "        wind_speed.append(weather_data_json['wind']['speed'])\n",
    "        country.append(weather_data_json['sys']['country'])\n",
    "        city_lat.append(weather_data_json['coord']['lat'])\n",
    "        city_long.append(weather_data_json['coord']['lon'])\n",
    "        max_temp.append(weather_data_json['main']['temp_max'])\n",
    "        \n",
    "       \n",
    "        \n",
    "        print(\"Processing Record:  \" + str(number) +\"  \" + city)\n",
    "        \n",
    "        number = number + 1\n",
    "        \n",
    "    except KeyError:\n",
    "        print(\"city not found... skipping\")\n",
    "        #city_dropped.append(weather_data_json['name'])\n",
    "        continue\n",
    "    \n",
    "#print(weather_data_json)"
   ]
  },
  {
   "cell_type": "code",
   "execution_count": 10,
   "metadata": {
    "scrolled": true
   },
   "outputs": [
    {
     "name": "stdout",
     "output_type": "stream",
     "text": [
      "{'base': 'model',\n",
      " 'clouds': {'all': 100},\n",
      " 'cod': 200,\n",
      " 'coord': {'lat': 72.79, 'lon': -56.15},\n",
      " 'dt': 1570835212,\n",
      " 'id': 3418910,\n",
      " 'main': {'grnd_level': 1004.3,\n",
      "          'humidity': 81,\n",
      "          'pressure': 1005,\n",
      "          'sea_level': 1005,\n",
      "          'temp': 29.48,\n",
      "          'temp_max': 29.48,\n",
      "          'temp_min': 29.48},\n",
      " 'name': 'Upernavik',\n",
      " 'sys': {'country': 'GL', 'sunrise': 1570791123, 'sunset': 1570824626},\n",
      " 'timezone': -7200,\n",
      " 'weather': [{'description': 'overcast clouds',\n",
      "              'icon': '04n',\n",
      "              'id': 804,\n",
      "              'main': 'Clouds'}],\n",
      " 'wind': {'deg': 139, 'speed': 10.65}}\n"
     ]
    }
   ],
   "source": [
    "\n",
    "pprint(weather_data_json)"
   ]
  },
  {
   "cell_type": "code",
   "execution_count": 11,
   "metadata": {},
   "outputs": [],
   "source": [
    "cities_mod2[\"Temp\"]= temp\n",
    "cities_mod2[\"Humidity\"] = humidity\n",
    "cities_mod2[\"Cloudiness\"] = cloud\n",
    "cities_mod2[\"Wind Speed\"] = wind_speed\n",
    "cities_mod2[\"Lat\"]= city_lat\n",
    "cities_mod2[\"Long\"] = city_long\n",
    "cities_mod2[\"Country\"] = country\n",
    "cities_mod2[\"Max Temp\"] = max_temp\n",
    "\n"
   ]
  },
  {
   "cell_type": "code",
   "execution_count": 12,
   "metadata": {},
   "outputs": [
    {
     "data": {
      "text/plain": [
       "([55.81, 77, 34.03, 52.27, 39.2, 53.37, 57.38, 80.6, 45.72, 71.74, 29.48], 11)"
      ]
     },
     "execution_count": 12,
     "metadata": {},
     "output_type": "execute_result"
    }
   ],
   "source": [
    "temp, len(temp)"
   ]
  },
  {
   "cell_type": "code",
   "execution_count": 13,
   "metadata": {},
   "outputs": [
    {
     "data": {
      "text/plain": [
       "[90, 40, 1, 38, 40, 0, 90, 20, 91, 11, 100]"
      ]
     },
     "execution_count": 13,
     "metadata": {},
     "output_type": "execute_result"
    }
   ],
   "source": [
    "cloud"
   ]
  },
  {
   "cell_type": "code",
   "execution_count": 14,
   "metadata": {},
   "outputs": [
    {
     "data": {
      "text/plain": [
       "[41, 78, 55, 64, 69, 77, 100, 88, 88, 76, 81]"
      ]
     },
     "execution_count": 14,
     "metadata": {},
     "output_type": "execute_result"
    }
   ],
   "source": [
    "humidity"
   ]
  },
  {
   "cell_type": "code",
   "execution_count": 15,
   "metadata": {},
   "outputs": [
    {
     "data": {
      "text/plain": [
       "[9.17, 8.05, 17.22, 5.21, 23.04, 9.67, 10.29, 6.93, 9.07, 16.13, 10.65]"
      ]
     },
     "execution_count": 15,
     "metadata": {},
     "output_type": "execute_result"
    }
   ],
   "source": [
    "wind_speed"
   ]
  },
  {
   "cell_type": "code",
   "execution_count": 16,
   "metadata": {},
   "outputs": [
    {
     "data": {
      "text/html": [
       "<div>\n",
       "<style scoped>\n",
       "    .dataframe tbody tr th:only-of-type {\n",
       "        vertical-align: middle;\n",
       "    }\n",
       "\n",
       "    .dataframe tbody tr th {\n",
       "        vertical-align: top;\n",
       "    }\n",
       "\n",
       "    .dataframe thead th {\n",
       "        text-align: right;\n",
       "    }\n",
       "</style>\n",
       "<table border=\"1\" class=\"dataframe\">\n",
       "  <thead>\n",
       "    <tr style=\"text-align: right;\">\n",
       "      <th></th>\n",
       "      <th>0</th>\n",
       "      <th>Country</th>\n",
       "      <th>Lat</th>\n",
       "      <th>Long</th>\n",
       "      <th>Temp</th>\n",
       "      <th>Max Temp</th>\n",
       "      <th>Humidity</th>\n",
       "      <th>Cloudiness</th>\n",
       "      <th>Wind Speed</th>\n",
       "    </tr>\n",
       "  </thead>\n",
       "  <tbody>\n",
       "    <tr>\n",
       "      <td>0</td>\n",
       "      <td>albany</td>\n",
       "      <td>US</td>\n",
       "      <td>42.65</td>\n",
       "      <td>-73.75</td>\n",
       "      <td>55.81</td>\n",
       "      <td>62.6</td>\n",
       "      <td>41</td>\n",
       "      <td>90</td>\n",
       "      <td>9.17</td>\n",
       "    </tr>\n",
       "    <tr>\n",
       "      <td>1</td>\n",
       "      <td>touros</td>\n",
       "      <td>BR</td>\n",
       "      <td>-5.20</td>\n",
       "      <td>-35.46</td>\n",
       "      <td>77.00</td>\n",
       "      <td>77.0</td>\n",
       "      <td>78</td>\n",
       "      <td>40</td>\n",
       "      <td>8.05</td>\n",
       "    </tr>\n",
       "    <tr>\n",
       "      <td>2</td>\n",
       "      <td>bismarck</td>\n",
       "      <td>US</td>\n",
       "      <td>46.81</td>\n",
       "      <td>-100.78</td>\n",
       "      <td>34.03</td>\n",
       "      <td>35.6</td>\n",
       "      <td>55</td>\n",
       "      <td>1</td>\n",
       "      <td>17.22</td>\n",
       "    </tr>\n",
       "    <tr>\n",
       "      <td>3</td>\n",
       "      <td>busselton</td>\n",
       "      <td>AU</td>\n",
       "      <td>-33.64</td>\n",
       "      <td>115.35</td>\n",
       "      <td>52.27</td>\n",
       "      <td>55.0</td>\n",
       "      <td>64</td>\n",
       "      <td>38</td>\n",
       "      <td>5.21</td>\n",
       "    </tr>\n",
       "    <tr>\n",
       "      <td>4</td>\n",
       "      <td>ushuaia</td>\n",
       "      <td>AR</td>\n",
       "      <td>-54.81</td>\n",
       "      <td>-68.31</td>\n",
       "      <td>39.20</td>\n",
       "      <td>39.2</td>\n",
       "      <td>69</td>\n",
       "      <td>40</td>\n",
       "      <td>23.04</td>\n",
       "    </tr>\n",
       "  </tbody>\n",
       "</table>\n",
       "</div>"
      ],
      "text/plain": [
       "           0 Country    Lat    Long   Temp  Max Temp  Humidity  Cloudiness  \\\n",
       "0     albany      US  42.65  -73.75  55.81      62.6        41          90   \n",
       "1     touros      BR  -5.20  -35.46  77.00      77.0        78          40   \n",
       "2   bismarck      US  46.81 -100.78  34.03      35.6        55           1   \n",
       "3  busselton      AU -33.64  115.35  52.27      55.0        64          38   \n",
       "4    ushuaia      AR -54.81  -68.31  39.20      39.2        69          40   \n",
       "\n",
       "   Wind Speed  \n",
       "0        9.17  \n",
       "1        8.05  \n",
       "2       17.22  \n",
       "3        5.21  \n",
       "4       23.04  "
      ]
     },
     "execution_count": 16,
     "metadata": {},
     "output_type": "execute_result"
    }
   ],
   "source": [
    "cities_mod2.head()"
   ]
  },
  {
   "cell_type": "code",
   "execution_count": 17,
   "metadata": {},
   "outputs": [
    {
     "data": {
      "text/plain": [
       "'upernavik'"
      ]
     },
     "execution_count": 17,
     "metadata": {},
     "output_type": "execute_result"
    }
   ],
   "source": [
    "city"
   ]
  },
  {
   "cell_type": "code",
   "execution_count": 18,
   "metadata": {},
   "outputs": [
    {
     "data": {
      "text/plain": [
       "([42.65, -5.2, 46.81, -33.64, -54.81, 45.9, -34.58, 6.8, 56.57, -30.17, 72.79],\n",
       " 11)"
      ]
     },
     "execution_count": 18,
     "metadata": {},
     "output_type": "execute_result"
    }
   ],
   "source": [
    "city_lat, len(city_lat)"
   ]
  },
  {
   "cell_type": "code",
   "execution_count": 19,
   "metadata": {},
   "outputs": [
    {
     "data": {
      "text/plain": [
       "([-73.75,\n",
       "  -35.46,\n",
       "  -100.78,\n",
       "  115.35,\n",
       "  -68.31,\n",
       "  34.18,\n",
       "  150.85,\n",
       "  -58.16,\n",
       "  36.46,\n",
       "  -50.22,\n",
       "  -56.15],\n",
       " 11)"
      ]
     },
     "execution_count": 19,
     "metadata": {},
     "output_type": "execute_result"
    }
   ],
   "source": [
    "city_long, len(city_long)"
   ]
  },
  {
   "cell_type": "code",
   "execution_count": 38,
   "metadata": {},
   "outputs": [
    {
     "data": {
      "text/plain": [
       "'11.10.2019'"
      ]
     },
     "execution_count": 38,
     "metadata": {},
     "output_type": "execute_result"
    }
   ],
   "source": [
    "todaysdate = time.strftime(\"%d.%m.%Y\")\n",
    "todaysdate"
   ]
  },
  {
   "cell_type": "code",
   "execution_count": 41,
   "metadata": {},
   "outputs": [
    {
     "data": {
      "image/png": "[encoded data removed]",
      "text/plain": [
       "<Figure size 432x288 with 1 Axes>"
      ]
     },
     "metadata": {
      "needs_background": "light"
     },
     "output_type": "display_data"
    }
   ],
   "source": [
    "lat_vs_max_temp = cities_mod2.plot.scatter(x='Lat',\n",
    "                                     y='Max Temp',\n",
    "                                     c='DarkBlue')\n",
    "                                     \n",
    "plt.title('City Latitude vs Max Temp ('+ todaysdate +')', fontsize=16)\n",
    "plt.xlabel('Latitude', fontsize=14)\n",
    "plt.ylabel('Max Temp (F*)', fontsize=14)\n",
    "plt.savefig(\"Images/lat_vs_max_temp.png\")"
   ]
  },
  {
   "cell_type": "code",
   "execution_count": 42,
   "metadata": {},
   "outputs": [
    {
     "data": {
      "image/png": "[encoded data removed]",
      "text/plain": [
       "<Figure size 432x288 with 1 Axes>"
      ]
     },
     "metadata": {
      "needs_background": "light"
     },
     "output_type": "display_data"
    }
   ],
   "source": [
    "lat_vs_humidity = cities_mod2.plot.scatter(x='Lat',\n",
    "                                     y='Humidity',\n",
    "                                     c='DarkBlue')\n",
    "                                     \n",
    "plt.title('City Latitude vs Humidity ('+ todaysdate +')', fontsize=16)\n",
    "plt.xlabel('Latitude', fontsize=14)\n",
    "plt.ylabel('Humidity (%)', fontsize=14)\n",
    "plt.savefig(\"Images/lat_vs_humidity.png\")"
   ]
  },
  {
   "cell_type": "code",
   "execution_count": 44,
   "metadata": {},
   "outputs": [
    {
     "data": {
      "image/png": "[encoded data removed]",
      "text/plain": [
       "<Figure size 432x288 with 1 Axes>"
      ]
     },
     "metadata": {
      "needs_background": "light"
     },
     "output_type": "display_data"
    }
   ],
   "source": [
    "lat_vs_cloudiness = cities_mod2.plot.scatter(x='Lat',\n",
    "                                     y='Cloudiness',\n",
    "                                     c='DarkBlue')\n",
    "                                     \n",
    "plt.title('City Latitude vs Cloudiness ('+ todaysdate +')', fontsize=16)\n",
    "plt.xlabel('Latitude', fontsize=14)\n",
    "plt.ylabel('Cloudiness (F*)', fontsize=14)\n",
    "plt.savefig(\"Images/lat_vs_cloudiness.png\")"
   ]
  },
  {
   "cell_type": "code",
   "execution_count": 45,
   "metadata": {},
   "outputs": [
    {
     "data": {
      "image/png": "[encoded data removed]",
      "text/plain": [
       "<Figure size 432x288 with 1 Axes>"
      ]
     },
     "metadata": {
      "needs_background": "light"
     },
     "output_type": "display_data"
    }
   ],
   "source": [
    "lat_vs_wind_speed = cities_mod2.plot.scatter(x='Lat',\n",
    "                                     y='Wind Speed',\n",
    "                                     c='DarkBlue')\n",
    "                                     \n",
    "plt.title('City Latitude vs Wind Speed ('+ todaysdate +')', fontsize=16)\n",
    "plt.xlabel('Latitude', fontsize=14)\n",
    "plt.ylabel('Wind Speed (mph)', fontsize=14)\n",
    "plt.savefig(\"Images/lat_vs_wind_speed.png\")"
   ]
  },
  {
   "cell_type": "code",
   "execution_count": null,
   "metadata": {},
   "outputs": [],
   "source": []
  }
 ],
 "metadata": {
  "kernelspec": {
   "display_name": "Python 3",
   "language": "python",
   "name": "python3"
  },
  "language_info": {
   "codemirror_mode": {
    "name": "ipython",
    "version": 3
   },
   "file_extension": ".py",
   "mimetype": "text/x-python",
   "name": "python",
   "nbconvert_exporter": "python",
   "pygments_lexer": "ipython3",
   "version": "3.6.9"
  }
 },
 "nbformat": 4,
 "nbformat_minor": 2
}
