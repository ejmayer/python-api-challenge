{
 "cells": [
  {
   "cell_type": "code",
   "execution_count": 1,
   "metadata": {},
   "outputs": [],
   "source": [
    "# Dependencies and Setup\n",
    "import matplotlib.pyplot as plt\n",
    "import pandas as pd\n",
    "import numpy as np\n",
    "import requests\n",
    "import time\n",
    "from pprint import pprint\n",
    "import json\n",
    "import time\n",
    "\n",
    "# Import API key\n",
    "from api_keys import api_key\n",
    "\n",
    "# Incorporated citipy to determine city based on latitude and longitude\n",
    "from citipy import citipy\n",
    "\n",
    "# Output File (CSV)\n",
    "output_data_file = \"output_data/cities.csv\"\n",
    "\n",
    "# Range of latitudes and longitudes\n",
    "lat_range = (-90, 90)\n",
    "lng_range = (-180, 180)"
   ]
  },
  {
   "cell_type": "code",
   "execution_count": 2,
   "metadata": {},
   "outputs": [
    {
     "data": {
      "text/plain": [
       "618"
      ]
     },
     "execution_count": 2,
     "metadata": {},
     "output_type": "execute_result"
    }
   ],
   "source": [
    "# List for holding lat_lngs and cities\n",
    "lat_lngs = []\n",
    "cities = []\n",
    "\n",
    "# Create a set of random lat and lng combinations\n",
    "lats = np.random.uniform(low=-90.000, high=90.000, size=1500)\n",
    "lngs = np.random.uniform(low=-180.000, high=180.000, size=1500)\n",
    "lat_lngs = zip(lats, lngs)\n",
    "\n",
    "# Identify nearest city for each lat, lng combination\n",
    "for lat_lng in lat_lngs:\n",
    "    city = citipy.nearest_city(lat_lng[0], lat_lng[1]).city_name\n",
    "    \n",
    "    # If the city is unique, then add it to a our cities list\n",
    "    if city not in cities:\n",
    "        cities.append(city)\n",
    "\n",
    "# Print the city count to confirm sufficient count\n",
    "len(cities)"
   ]
  },
  {
   "cell_type": "code",
   "execution_count": 3,
   "metadata": {},
   "outputs": [
    {
     "data": {
      "text/html": [
       "<div>\n",
       "<style scoped>\n",
       "    .dataframe tbody tr th:only-of-type {\n",
       "        vertical-align: middle;\n",
       "    }\n",
       "\n",
       "    .dataframe tbody tr th {\n",
       "        vertical-align: top;\n",
       "    }\n",
       "\n",
       "    .dataframe thead th {\n",
       "        text-align: right;\n",
       "    }\n",
       "</style>\n",
       "<table border=\"1\" class=\"dataframe\">\n",
       "  <thead>\n",
       "    <tr style=\"text-align: right;\">\n",
       "      <th></th>\n",
       "      <th>0</th>\n",
       "    </tr>\n",
       "  </thead>\n",
       "  <tbody>\n",
       "    <tr>\n",
       "      <td>0</td>\n",
       "      <td>karacabey</td>\n",
       "    </tr>\n",
       "    <tr>\n",
       "      <td>1</td>\n",
       "      <td>east london</td>\n",
       "    </tr>\n",
       "    <tr>\n",
       "      <td>2</td>\n",
       "      <td>hobart</td>\n",
       "    </tr>\n",
       "    <tr>\n",
       "      <td>3</td>\n",
       "      <td>alcaniz</td>\n",
       "    </tr>\n",
       "    <tr>\n",
       "      <td>4</td>\n",
       "      <td>cape town</td>\n",
       "    </tr>\n",
       "  </tbody>\n",
       "</table>\n",
       "</div>"
      ],
      "text/plain": [
       "             0\n",
       "0    karacabey\n",
       "1  east london\n",
       "2       hobart\n",
       "3      alcaniz\n",
       "4    cape town"
      ]
     },
     "execution_count": 3,
     "metadata": {},
     "output_type": "execute_result"
    }
   ],
   "source": [
    "# create dataframe to hold data from api request\n",
    "cities = pd.DataFrame(cities)\n",
    "cities.head()"
   ]
  },
  {
   "cell_type": "code",
   "execution_count": 4,
   "metadata": {},
   "outputs": [
    {
     "data": {
      "text/html": [
       "<div>\n",
       "<style scoped>\n",
       "    .dataframe tbody tr th:only-of-type {\n",
       "        vertical-align: middle;\n",
       "    }\n",
       "\n",
       "    .dataframe tbody tr th {\n",
       "        vertical-align: top;\n",
       "    }\n",
       "\n",
       "    .dataframe thead th {\n",
       "        text-align: right;\n",
       "    }\n",
       "</style>\n",
       "<table border=\"1\" class=\"dataframe\">\n",
       "  <thead>\n",
       "    <tr style=\"text-align: right;\">\n",
       "      <th></th>\n",
       "      <th>0</th>\n",
       "    </tr>\n",
       "  </thead>\n",
       "  <tbody>\n",
       "    <tr>\n",
       "      <td>0</td>\n",
       "      <td>karacabey</td>\n",
       "    </tr>\n",
       "    <tr>\n",
       "      <td>1</td>\n",
       "      <td>east london</td>\n",
       "    </tr>\n",
       "    <tr>\n",
       "      <td>2</td>\n",
       "      <td>hobart</td>\n",
       "    </tr>\n",
       "    <tr>\n",
       "      <td>3</td>\n",
       "      <td>alcaniz</td>\n",
       "    </tr>\n",
       "    <tr>\n",
       "      <td>4</td>\n",
       "      <td>cape town</td>\n",
       "    </tr>\n",
       "  </tbody>\n",
       "</table>\n",
       "</div>"
      ],
      "text/plain": [
       "             0\n",
       "0    karacabey\n",
       "1  east london\n",
       "2       hobart\n",
       "3      alcaniz\n",
       "4    cape town"
      ]
     },
     "execution_count": 4,
     "metadata": {},
     "output_type": "execute_result"
    }
   ],
   "source": [
    "# test step to create smaller data sample\n",
    "cities_mod2 = cities.drop(cities.index[11:])\n",
    "cities_mod2.head()"
   ]
  },
  {
   "cell_type": "code",
   "execution_count": 5,
   "metadata": {},
   "outputs": [
    {
     "data": {
      "text/html": [
       "<div>\n",
       "<style scoped>\n",
       "    .dataframe tbody tr th:only-of-type {\n",
       "        vertical-align: middle;\n",
       "    }\n",
       "\n",
       "    .dataframe tbody tr th {\n",
       "        vertical-align: top;\n",
       "    }\n",
       "\n",
       "    .dataframe thead th {\n",
       "        text-align: right;\n",
       "    }\n",
       "</style>\n",
       "<table border=\"1\" class=\"dataframe\">\n",
       "  <thead>\n",
       "    <tr style=\"text-align: right;\">\n",
       "      <th></th>\n",
       "      <th>0</th>\n",
       "    </tr>\n",
       "  </thead>\n",
       "  <tbody>\n",
       "    <tr>\n",
       "      <td>6</td>\n",
       "      <td>hilo</td>\n",
       "    </tr>\n",
       "    <tr>\n",
       "      <td>7</td>\n",
       "      <td>saskylakh</td>\n",
       "    </tr>\n",
       "    <tr>\n",
       "      <td>8</td>\n",
       "      <td>katsuura</td>\n",
       "    </tr>\n",
       "    <tr>\n",
       "      <td>9</td>\n",
       "      <td>igunga</td>\n",
       "    </tr>\n",
       "    <tr>\n",
       "      <td>10</td>\n",
       "      <td>abalak</td>\n",
       "    </tr>\n",
       "  </tbody>\n",
       "</table>\n",
       "</div>"
      ],
      "text/plain": [
       "            0\n",
       "6        hilo\n",
       "7   saskylakh\n",
       "8    katsuura\n",
       "9      igunga\n",
       "10     abalak"
      ]
     },
     "execution_count": 5,
     "metadata": {},
     "output_type": "execute_result"
    }
   ],
   "source": [
    "# check to confirm smaller data sample size\n",
    "cities_mod2.tail()"
   ]
  },
  {
   "cell_type": "code",
   "execution_count": 6,
   "metadata": {},
   "outputs": [
    {
     "data": {
      "text/html": [
       "<div>\n",
       "<style scoped>\n",
       "    .dataframe tbody tr th:only-of-type {\n",
       "        vertical-align: middle;\n",
       "    }\n",
       "\n",
       "    .dataframe tbody tr th {\n",
       "        vertical-align: top;\n",
       "    }\n",
       "\n",
       "    .dataframe thead th {\n",
       "        text-align: right;\n",
       "    }\n",
       "</style>\n",
       "<table border=\"1\" class=\"dataframe\">\n",
       "  <thead>\n",
       "    <tr style=\"text-align: right;\">\n",
       "      <th></th>\n",
       "      <th>0</th>\n",
       "      <th>Country</th>\n",
       "      <th>Lat</th>\n",
       "      <th>Long</th>\n",
       "      <th>Temp</th>\n",
       "      <th>Max Temp</th>\n",
       "      <th>Humidity</th>\n",
       "      <th>Cloudiness</th>\n",
       "      <th>Wind Speed</th>\n",
       "    </tr>\n",
       "  </thead>\n",
       "  <tbody>\n",
       "    <tr>\n",
       "      <td>0</td>\n",
       "      <td>karacabey</td>\n",
       "      <td></td>\n",
       "      <td></td>\n",
       "      <td></td>\n",
       "      <td></td>\n",
       "      <td></td>\n",
       "      <td></td>\n",
       "      <td></td>\n",
       "      <td></td>\n",
       "    </tr>\n",
       "    <tr>\n",
       "      <td>1</td>\n",
       "      <td>east london</td>\n",
       "      <td></td>\n",
       "      <td></td>\n",
       "      <td></td>\n",
       "      <td></td>\n",
       "      <td></td>\n",
       "      <td></td>\n",
       "      <td></td>\n",
       "      <td></td>\n",
       "    </tr>\n",
       "    <tr>\n",
       "      <td>2</td>\n",
       "      <td>hobart</td>\n",
       "      <td></td>\n",
       "      <td></td>\n",
       "      <td></td>\n",
       "      <td></td>\n",
       "      <td></td>\n",
       "      <td></td>\n",
       "      <td></td>\n",
       "      <td></td>\n",
       "    </tr>\n",
       "    <tr>\n",
       "      <td>3</td>\n",
       "      <td>alcaniz</td>\n",
       "      <td></td>\n",
       "      <td></td>\n",
       "      <td></td>\n",
       "      <td></td>\n",
       "      <td></td>\n",
       "      <td></td>\n",
       "      <td></td>\n",
       "      <td></td>\n",
       "    </tr>\n",
       "    <tr>\n",
       "      <td>4</td>\n",
       "      <td>cape town</td>\n",
       "      <td></td>\n",
       "      <td></td>\n",
       "      <td></td>\n",
       "      <td></td>\n",
       "      <td></td>\n",
       "      <td></td>\n",
       "      <td></td>\n",
       "      <td></td>\n",
       "    </tr>\n",
       "  </tbody>\n",
       "</table>\n",
       "</div>"
      ],
      "text/plain": [
       "             0 Country Lat Long Temp Max Temp Humidity Cloudiness Wind Speed\n",
       "0    karacabey                                                              \n",
       "1  east london                                                              \n",
       "2       hobart                                                              \n",
       "3      alcaniz                                                              \n",
       "4    cape town                                                              "
      ]
     },
     "execution_count": 6,
     "metadata": {},
     "output_type": "execute_result"
    }
   ],
   "source": [
    "# set additianal columns for dataframe\n",
    "\n",
    "#cities.rename(columns={\"0\" : \"Cities\"})\n",
    "#cities[\"Temp\"] = \"\"\n",
    "#cities[\"Humidity\"] = \"\"\n",
    "#cities[\"Cloudiness\"] = \"\"\n",
    "#cities[\"Wind Speed\"] =  \"\"\n",
    "#cities.head()\n",
    "\n",
    "# set additianal columns for dataframe\n",
    "cities_mod2.rename(columns={\"0\" : \"City\"})\n",
    "cities_mod2[\"Country\"] =  \"\"\n",
    "cities_mod2[\"Lat\"] = \"\"\n",
    "cities_mod2[\"Long\"] = \"\"\n",
    "cities_mod2[\"Temp\"] = \"\"\n",
    "cities_mod2[\"Max Temp\"] = \"\"\n",
    "cities_mod2[\"Humidity\"] = \"\"\n",
    "cities_mod2[\"Cloudiness\"] = \"\"\n",
    "cities_mod2[\"Wind Speed\"] =  \"\"\n",
    "\n",
    "cities_mod2.head()"
   ]
  },
  {
   "cell_type": "code",
   "execution_count": 7,
   "metadata": {},
   "outputs": [
    {
     "data": {
      "text/plain": [
       "(0       karacabey\n",
       " 1     east london\n",
       " 2          hobart\n",
       " 3         alcaniz\n",
       " 4       cape town\n",
       " 5         ushuaia\n",
       " 6            hilo\n",
       " 7       saskylakh\n",
       " 8        katsuura\n",
       " 9          igunga\n",
       " 10         abalak\n",
       " Name: 0, dtype: object, 'karacabey')"
      ]
     },
     "execution_count": 7,
     "metadata": {},
     "output_type": "execute_result"
    }
   ],
   "source": [
    "# temp variable for smaller data set test\n",
    "cities_trial = (cities_mod2.loc[0:10, 0])\n",
    "city = (cities_mod2.loc[0,0])\n",
    "cities_trial, city"
   ]
  },
  {
   "cell_type": "code",
   "execution_count": 8,
   "metadata": {},
   "outputs": [
    {
     "name": "stdout",
     "output_type": "stream",
     "text": [
      "Data Retrieval Process\n",
      "--------------------------------------\n",
      "Processing Record:  1  karacabey\n",
      "Processing Record:  2  east london\n",
      "Processing Record:  3  hobart\n",
      "Processing Record:  4  alcaniz\n",
      "Processing Record:  5  cape town\n",
      "Processing Record:  6  ushuaia\n",
      "Processing Record:  7  hilo\n",
      "Processing Record:  8  saskylakh\n",
      "Processing Record:  9  katsuura\n",
      "Processing Record:  10  igunga\n",
      "Processing Record:  11  abalak\n",
      "-------------------------------------\n",
      "Data Set Retrieval Complete\n",
      "-------------------------------------\n"
     ]
    }
   ],
   "source": [
    "# set up lists to hold reponse info\n",
    "temp = []\n",
    "cloud = []\n",
    "humidity = []\n",
    "wind_speed = []\n",
    "country = []\n",
    "max_temp = []\n",
    "city_lat = []\n",
    "city_long = []\n",
    "number = 1\n",
    "city_dropped = []\n",
    "\n",
    "# graphics for data retrieval log\n",
    "print(\"Data Retrieval Process\")\n",
    "print(\"--------------------------------------\")\n",
    "\n",
    "\n",
    "# Loop through the list of cities and perform a request for data on each\n",
    "for city in cities_trial:\n",
    "\n",
    "    try:\n",
    "        \n",
    "        # Save config information.\n",
    "        url = \"http://api.openweathermap.org/data/2.5/weather?\"\n",
    "        query_url = url + \"appid=\" + api_key + \"&q=\" + city + \"&mode=json&units=imperial\"\n",
    "        query_url\n",
    "    \n",
    "        # requests for open weather api's\n",
    "        weather_response = requests.get(query_url)\n",
    "        weather_data_json = weather_response.json()\n",
    "    \n",
    "        # Add a one second interval between queries to stay within API query limits\n",
    "        time.sleep(1)\n",
    "    \n",
    "        # append all required data from json during each loop\n",
    "        temp.append(weather_data_json['main']['temp'])\n",
    "        cloud.append(weather_data_json['clouds']['all'])\n",
    "        humidity.append(weather_data_json['main']['humidity'])\n",
    "        wind_speed.append(weather_data_json['wind']['speed'])\n",
    "        country.append(weather_data_json['sys']['country'])\n",
    "        city_lat.append(weather_data_json['coord']['lat'])\n",
    "        city_long.append(weather_data_json['coord']['lon'])\n",
    "        max_temp.append(weather_data_json['main']['temp_max'])\n",
    "        \n",
    "       \n",
    "        # continue graphics and log each retrieval request\n",
    "        print(\"Processing Record:  \" + str(number) +\"  \" + city)\n",
    "        \n",
    "        # add to number for log\n",
    "        number = number + 1\n",
    "        \n",
    "    except KeyError:\n",
    "        # print exception in data log for not finding city\n",
    "        print(\"city not found... skipping\")\n",
    "        #city_dropped.append(weather_data_json['name'])\n",
    "        continue\n",
    "    \n",
    "\n",
    "# finish graphics for data log\n",
    "print(\"-------------------------------------\")\n",
    "print(\"Data Set Retrieval Complete\")\n",
    "print(\"-------------------------------------\")"
   ]
  },
  {
   "cell_type": "code",
   "execution_count": 9,
   "metadata": {},
   "outputs": [],
   "source": [
    "###################################\n",
    "#  Need to find how to eliminate empty rows from dataframe\n",
    "#  accumulated data not same length of dataframe column being assigned to\n",
    "####################################"
   ]
  },
  {
   "cell_type": "code",
   "execution_count": 10,
   "metadata": {
    "scrolled": true
   },
   "outputs": [
    {
     "name": "stdout",
     "output_type": "stream",
     "text": [
      "{'base': 'model',\n",
      " 'clouds': {'all': 98},\n",
      " 'cod': 200,\n",
      " 'coord': {'lat': 15.46, 'lon': 6.28},\n",
      " 'dt': 1570850601,\n",
      " 'id': 2448245,\n",
      " 'main': {'grnd_level': 956.08,\n",
      "          'humidity': 42,\n",
      "          'pressure': 1008,\n",
      "          'sea_level': 1008,\n",
      "          'temp': 85.24,\n",
      "          'temp_max': 85.24,\n",
      "          'temp_min': 85.24},\n",
      " 'name': 'Abalak',\n",
      " 'sys': {'country': 'NE', 'sunrise': 1570857956, 'sunset': 1570900601},\n",
      " 'timezone': 3600,\n",
      " 'weather': [{'description': 'overcast clouds',\n",
      "              'icon': '04n',\n",
      "              'id': 804,\n",
      "              'main': 'Clouds'}],\n",
      " 'wind': {'deg': 268, 'speed': 7.57}}\n"
     ]
    }
   ],
   "source": [
    "# pretty print json\n",
    "pprint(weather_data_json)"
   ]
  },
  {
   "cell_type": "code",
   "execution_count": 11,
   "metadata": {},
   "outputs": [],
   "source": [
    "# add data to dataframe\n",
    "cities_mod2[\"Temp\"]= temp\n",
    "cities_mod2[\"Humidity\"] = humidity\n",
    "cities_mod2[\"Cloudiness\"] = cloud\n",
    "cities_mod2[\"Wind Speed\"] = wind_speed\n",
    "cities_mod2[\"Lat\"]= city_lat\n",
    "cities_mod2[\"Long\"] = city_long\n",
    "cities_mod2[\"Country\"] = country\n",
    "cities_mod2[\"Max Temp\"] = max_temp\n",
    "\n"
   ]
  },
  {
   "cell_type": "code",
   "execution_count": 12,
   "metadata": {},
   "outputs": [
    {
     "data": {
      "text/plain": [
       "([62.51, 57.2, 56.62, 61.5, 58.71, 33.8, 76.46, 17.02, 72.64, 69.4, 85.24], 11)"
      ]
     },
     "execution_count": 12,
     "metadata": {},
     "output_type": "execute_result"
    }
   ],
   "source": [
    "# check length and data from temp\n",
    "temp, len(temp)"
   ]
  },
  {
   "cell_type": "code",
   "execution_count": 13,
   "metadata": {},
   "outputs": [
    {
     "data": {
      "text/plain": [
       "([75, 99, 75, 97, 40, 90, 90, 87, 75, 69, 98], 11)"
      ]
     },
     "execution_count": 13,
     "metadata": {},
     "output_type": "execute_result"
    }
   ],
   "source": [
    "# check length and data from cloud\n",
    "cloud, len(cloud)"
   ]
  },
  {
   "cell_type": "code",
   "execution_count": 14,
   "metadata": {},
   "outputs": [
    {
     "data": {
      "text/plain": [
       "([82, 93, 58, 88, 82, 86, 69, 78, 78, 65, 42], 11)"
      ]
     },
     "execution_count": 14,
     "metadata": {},
     "output_type": "execute_result"
    }
   ],
   "source": [
    "# check length and data from humidity\n",
    "humidity, len(humidity)"
   ]
  },
  {
   "cell_type": "code",
   "execution_count": 15,
   "metadata": {},
   "outputs": [
    {
     "data": {
      "text/plain": [
       "([13.87, 5.82, 8.05, 4, 14.99, 31.09, 4.7, 5.72, 28.86, 7.51, 7.57], 11)"
      ]
     },
     "execution_count": 15,
     "metadata": {},
     "output_type": "execute_result"
    }
   ],
   "source": [
    "# check length and data from wind speed\n",
    "wind_speed, len(wind_speed)"
   ]
  },
  {
   "cell_type": "code",
   "execution_count": 17,
   "metadata": {},
   "outputs": [
    {
     "data": {
      "text/plain": [
       "([40.21,\n",
       "  -33.02,\n",
       "  -42.88,\n",
       "  41.05,\n",
       "  -33.93,\n",
       "  -54.81,\n",
       "  19.71,\n",
       "  71.97,\n",
       "  33.93,\n",
       "  -4.28,\n",
       "  15.46],\n",
       " 11)"
      ]
     },
     "execution_count": 17,
     "metadata": {},
     "output_type": "execute_result"
    }
   ],
   "source": [
    "# check length and data from city lat\n",
    "city_lat, len(city_lat)"
   ]
  },
  {
   "cell_type": "code",
   "execution_count": 18,
   "metadata": {},
   "outputs": [
    {
     "data": {
      "text/plain": [
       "([28.36,\n",
       "  27.91,\n",
       "  147.33,\n",
       "  -0.13,\n",
       "  18.42,\n",
       "  -68.31,\n",
       "  -155.08,\n",
       "  114.09,\n",
       "  134.5,\n",
       "  33.88,\n",
       "  6.28],\n",
       " 11)"
      ]
     },
     "execution_count": 18,
     "metadata": {},
     "output_type": "execute_result"
    }
   ],
   "source": [
    "# check length and data from city long\n",
    "city_long, len(city_long)"
   ]
  },
  {
   "cell_type": "code",
   "execution_count": 16,
   "metadata": {},
   "outputs": [
    {
     "data": {
      "text/html": [
       "<div>\n",
       "<style scoped>\n",
       "    .dataframe tbody tr th:only-of-type {\n",
       "        vertical-align: middle;\n",
       "    }\n",
       "\n",
       "    .dataframe tbody tr th {\n",
       "        vertical-align: top;\n",
       "    }\n",
       "\n",
       "    .dataframe thead th {\n",
       "        text-align: right;\n",
       "    }\n",
       "</style>\n",
       "<table border=\"1\" class=\"dataframe\">\n",
       "  <thead>\n",
       "    <tr style=\"text-align: right;\">\n",
       "      <th></th>\n",
       "      <th>0</th>\n",
       "      <th>Country</th>\n",
       "      <th>Lat</th>\n",
       "      <th>Long</th>\n",
       "      <th>Temp</th>\n",
       "      <th>Max Temp</th>\n",
       "      <th>Humidity</th>\n",
       "      <th>Cloudiness</th>\n",
       "      <th>Wind Speed</th>\n",
       "    </tr>\n",
       "  </thead>\n",
       "  <tbody>\n",
       "    <tr>\n",
       "      <td>0</td>\n",
       "      <td>karacabey</td>\n",
       "      <td>TR</td>\n",
       "      <td>40.21</td>\n",
       "      <td>28.36</td>\n",
       "      <td>62.51</td>\n",
       "      <td>64.40</td>\n",
       "      <td>82</td>\n",
       "      <td>75</td>\n",
       "      <td>13.87</td>\n",
       "    </tr>\n",
       "    <tr>\n",
       "      <td>1</td>\n",
       "      <td>east london</td>\n",
       "      <td>ZA</td>\n",
       "      <td>-33.02</td>\n",
       "      <td>27.91</td>\n",
       "      <td>57.20</td>\n",
       "      <td>57.20</td>\n",
       "      <td>93</td>\n",
       "      <td>99</td>\n",
       "      <td>5.82</td>\n",
       "    </tr>\n",
       "    <tr>\n",
       "      <td>2</td>\n",
       "      <td>hobart</td>\n",
       "      <td>AU</td>\n",
       "      <td>-42.88</td>\n",
       "      <td>147.33</td>\n",
       "      <td>56.62</td>\n",
       "      <td>60.01</td>\n",
       "      <td>58</td>\n",
       "      <td>75</td>\n",
       "      <td>8.05</td>\n",
       "    </tr>\n",
       "    <tr>\n",
       "      <td>3</td>\n",
       "      <td>alcaniz</td>\n",
       "      <td>ES</td>\n",
       "      <td>41.05</td>\n",
       "      <td>-0.13</td>\n",
       "      <td>61.50</td>\n",
       "      <td>62.01</td>\n",
       "      <td>88</td>\n",
       "      <td>97</td>\n",
       "      <td>4.00</td>\n",
       "    </tr>\n",
       "    <tr>\n",
       "      <td>4</td>\n",
       "      <td>cape town</td>\n",
       "      <td>ZA</td>\n",
       "      <td>-33.93</td>\n",
       "      <td>18.42</td>\n",
       "      <td>58.71</td>\n",
       "      <td>59.00</td>\n",
       "      <td>82</td>\n",
       "      <td>40</td>\n",
       "      <td>14.99</td>\n",
       "    </tr>\n",
       "    <tr>\n",
       "      <td>5</td>\n",
       "      <td>ushuaia</td>\n",
       "      <td>AR</td>\n",
       "      <td>-54.81</td>\n",
       "      <td>-68.31</td>\n",
       "      <td>33.80</td>\n",
       "      <td>33.80</td>\n",
       "      <td>86</td>\n",
       "      <td>90</td>\n",
       "      <td>31.09</td>\n",
       "    </tr>\n",
       "    <tr>\n",
       "      <td>6</td>\n",
       "      <td>hilo</td>\n",
       "      <td>US</td>\n",
       "      <td>19.71</td>\n",
       "      <td>-155.08</td>\n",
       "      <td>76.46</td>\n",
       "      <td>82.40</td>\n",
       "      <td>69</td>\n",
       "      <td>90</td>\n",
       "      <td>4.70</td>\n",
       "    </tr>\n",
       "    <tr>\n",
       "      <td>7</td>\n",
       "      <td>saskylakh</td>\n",
       "      <td>RU</td>\n",
       "      <td>71.97</td>\n",
       "      <td>114.09</td>\n",
       "      <td>17.02</td>\n",
       "      <td>17.02</td>\n",
       "      <td>78</td>\n",
       "      <td>87</td>\n",
       "      <td>5.72</td>\n",
       "    </tr>\n",
       "    <tr>\n",
       "      <td>8</td>\n",
       "      <td>katsuura</td>\n",
       "      <td>JP</td>\n",
       "      <td>33.93</td>\n",
       "      <td>134.50</td>\n",
       "      <td>72.64</td>\n",
       "      <td>75.20</td>\n",
       "      <td>78</td>\n",
       "      <td>75</td>\n",
       "      <td>28.86</td>\n",
       "    </tr>\n",
       "    <tr>\n",
       "      <td>9</td>\n",
       "      <td>igunga</td>\n",
       "      <td>TZ</td>\n",
       "      <td>-4.28</td>\n",
       "      <td>33.88</td>\n",
       "      <td>69.40</td>\n",
       "      <td>69.40</td>\n",
       "      <td>65</td>\n",
       "      <td>69</td>\n",
       "      <td>7.51</td>\n",
       "    </tr>\n",
       "    <tr>\n",
       "      <td>10</td>\n",
       "      <td>abalak</td>\n",
       "      <td>NE</td>\n",
       "      <td>15.46</td>\n",
       "      <td>6.28</td>\n",
       "      <td>85.24</td>\n",
       "      <td>85.24</td>\n",
       "      <td>42</td>\n",
       "      <td>98</td>\n",
       "      <td>7.57</td>\n",
       "    </tr>\n",
       "  </tbody>\n",
       "</table>\n",
       "</div>"
      ],
      "text/plain": [
       "              0 Country    Lat    Long   Temp  Max Temp  Humidity  Cloudiness  \\\n",
       "0     karacabey      TR  40.21   28.36  62.51     64.40        82          75   \n",
       "1   east london      ZA -33.02   27.91  57.20     57.20        93          99   \n",
       "2        hobart      AU -42.88  147.33  56.62     60.01        58          75   \n",
       "3       alcaniz      ES  41.05   -0.13  61.50     62.01        88          97   \n",
       "4     cape town      ZA -33.93   18.42  58.71     59.00        82          40   \n",
       "5       ushuaia      AR -54.81  -68.31  33.80     33.80        86          90   \n",
       "6          hilo      US  19.71 -155.08  76.46     82.40        69          90   \n",
       "7     saskylakh      RU  71.97  114.09  17.02     17.02        78          87   \n",
       "8      katsuura      JP  33.93  134.50  72.64     75.20        78          75   \n",
       "9        igunga      TZ  -4.28   33.88  69.40     69.40        65          69   \n",
       "10       abalak      NE  15.46    6.28  85.24     85.24        42          98   \n",
       "\n",
       "    Wind Speed  \n",
       "0        13.87  \n",
       "1         5.82  \n",
       "2         8.05  \n",
       "3         4.00  \n",
       "4        14.99  \n",
       "5        31.09  \n",
       "6         4.70  \n",
       "7         5.72  \n",
       "8        28.86  \n",
       "9         7.51  \n",
       "10        7.57  "
      ]
     },
     "execution_count": 16,
     "metadata": {},
     "output_type": "execute_result"
    }
   ],
   "source": [
    "# check to see if df is filled properly\n",
    "cities_mod2"
   ]
  },
  {
   "cell_type": "code",
   "execution_count": 19,
   "metadata": {},
   "outputs": [
    {
     "data": {
      "text/plain": [
       "'10/11/2019'"
      ]
     },
     "execution_count": 19,
     "metadata": {},
     "output_type": "execute_result"
    }
   ],
   "source": [
    "# find and assign variable for current date to use in graph titles\n",
    "todaysdate = time.strftime(\"%m/%d/%Y\")\n",
    "todaysdate"
   ]
  },
  {
   "cell_type": "code",
   "execution_count": 20,
   "metadata": {},
   "outputs": [
    {
     "data": {
      "image/png": "[encoded data removed]",
      "text/plain": [
       "<Figure size 432x288 with 1 Axes>"
      ]
     },
     "metadata": {
      "needs_background": "light"
     },
     "output_type": "display_data"
    },
    {
     "data": {
      "text/plain": [
       "<Figure size 432x288 with 0 Axes>"
      ]
     },
     "metadata": {},
     "output_type": "display_data"
    }
   ],
   "source": [
    "# create graph, titles, date and save lat vs max temp\n",
    "colors = []\n",
    "\n",
    "lat_vs_max_temp = cities_mod2.plot.scatter(x='Max Temp',\n",
    "                                     y='Lat',\n",
    "                                     c='k')\n",
    "\n",
    "#color = 'r' if (group['label'] < 0).all() else 'g'\n",
    "\n",
    "# add lines representing equator, tropics, arctic and antarctic circles\n",
    "plt.axhline(y=-66, color='b', linestyle='-', alpha=0.2)\n",
    "plt.axhline(y=-22, color='r', linestyle='-', alpha=0.2)\n",
    "equator = plt.axhline(y=0, color='k', linestyle='-', alpha=0.4)\n",
    "plt.axhline(y=22, color='r', linestyle='-', alpha=0.2)\n",
    "plt.axhline(y=66, color='b', linestyle='-', alpha=0.2)                                     \n",
    "\n",
    "# add titles and legend\n",
    "plt.title('City Latitude vs Max Temp ('+ todaysdate +')', fontsize=16)\n",
    "plt.ylabel('Latitude', fontsize=14)\n",
    "plt.xlabel('Max Temp (F*)', fontsize=14)\n",
    "\n",
    "# show\n",
    "plt.show()\n",
    "\n",
    "# save figure as png\n",
    "plt.savefig(\"Images/lat_vs_max_temp.png\")\n",
    "\n"
   ]
  },
  {
   "cell_type": "code",
   "execution_count": 21,
   "metadata": {},
   "outputs": [
    {
     "data": {
      "image/png": "[encoded data removed]",
      "text/plain": [
       "<Figure size 432x288 with 1 Axes>"
      ]
     },
     "metadata": {
      "needs_background": "light"
     },
     "output_type": "display_data"
    }
   ],
   "source": [
    "# create graph, titles, date and save lat vs humidity\n",
    "lat_vs_humidity = cities_mod2.plot.scatter(x='Lat',\n",
    "                                     y='Humidity',\n",
    "                                     c='DarkBlue')\n",
    "                                     \n",
    "plt.title('City Latitude vs Humidity ('+ todaysdate +')', fontsize=16)\n",
    "plt.xlabel('Latitude', fontsize=14)\n",
    "plt.ylabel('Humidity (%)', fontsize=14)\n",
    "plt.savefig(\"Images/lat_vs_humidity.png\")"
   ]
  },
  {
   "cell_type": "code",
   "execution_count": 22,
   "metadata": {},
   "outputs": [
    {
     "data": {
      "image/png": "[encoded data removed]",
      "text/plain": [
       "<Figure size 432x288 with 1 Axes>"
      ]
     },
     "metadata": {
      "needs_background": "light"
     },
     "output_type": "display_data"
    }
   ],
   "source": [
    "# create graph, titles, date and save lat vs cloudiness\n",
    "lat_vs_cloudiness = cities_mod2.plot.scatter(x='Lat',\n",
    "                                     y='Cloudiness',\n",
    "                                     c='DarkBlue')\n",
    "                                     \n",
    "plt.title('City Latitude vs Cloudiness ('+ todaysdate +')', fontsize=16)\n",
    "plt.xlabel('Latitude', fontsize=14)\n",
    "plt.ylabel('Cloudiness (F*)', fontsize=14)\n",
    "plt.savefig(\"Images/lat_vs_cloudiness.png\")"
   ]
  },
  {
   "cell_type": "code",
   "execution_count": 23,
   "metadata": {},
   "outputs": [
    {
     "data": {
      "image/png": "[encoded data removed]",
      "text/plain": [
       "<Figure size 432x288 with 1 Axes>"
      ]
     },
     "metadata": {
      "needs_background": "light"
     },
     "output_type": "display_data"
    }
   ],
   "source": [
    "# create graph, titles, date and save lat vs wind speed\n",
    "lat_vs_wind_speed = cities_mod2.plot.scatter(x='Lat',\n",
    "                                     y='Wind Speed',\n",
    "                                     c='DarkBlue')\n",
    "                                     \n",
    "plt.title('City Latitude vs Wind Speed ('+ todaysdate +')', fontsize=16)\n",
    "plt.xlabel('Latitude', fontsize=14)\n",
    "plt.ylabel('Wind Speed (mph)', fontsize=14)\n",
    "plt.savefig(\"Images/lat_vs_wind_speed.png\")"
   ]
  },
  {
   "cell_type": "code",
   "execution_count": null,
   "metadata": {},
   "outputs": [],
   "source": []
  }
 ],
 "metadata": {
  "kernelspec": {
   "display_name": "Python 3",
   "language": "python",
   "name": "python3"
  },
  "language_info": {
   "codemirror_mode": {
    "name": "ipython",
    "version": 3
   },
   "file_extension": ".py",
   "mimetype": "text/x-python",
   "name": "python",
   "nbconvert_exporter": "python",
   "pygments_lexer": "ipython3",
   "version": "3.6.9"
  }
 },
 "nbformat": 4,
 "nbformat_minor": 2
}
